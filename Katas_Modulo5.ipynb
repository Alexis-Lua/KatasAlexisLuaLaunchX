{
 "cells": [
  {
   "cell_type": "markdown",
   "metadata": {},
   "source": [
    "# Manual de la nave | K5"
   ]
  },
  {
   "cell_type": "markdown",
   "metadata": {},
   "source": [
    "## Ejercicio 1 | Utilizar operadores aritméticos"
   ]
  },
  {
   "cell_type": "markdown",
   "metadata": {},
   "source": [
    "Exploremos cómo podemos crear un programa que pueda calcular la distancia entre dos planetas. Comenzaremos usando dos distancias de planetas: Tierra (149.597.870 km) y Júpiter (778.547.200 km)."
   ]
  },
  {
   "cell_type": "code",
   "execution_count": null,
   "metadata": {},
   "outputs": [],
   "source": [
    "Tierra = 149597870\n",
    "Jupiter = 778547200\n",
    "distancia_km = Jupiter - Tierra\n",
    "print(\"La distancia en kilómetros que hay entre Tierra y Júpiter es de: \" + str(int(distancia_km)) + \" km\")\n",
    "\n",
    "distancia_mi = distancia_km * 0.621\n",
    "print(\"La distancia en millas que hay entre la Tierra y Júpiter es de: \" + str(int(distancia_mi)) + \" mi\")"
   ]
  },
  {
   "cell_type": "markdown",
   "metadata": {},
   "source": [
    "## Ejercicio 2 | Convierte cadenas en números y usa valores absolutos"
   ]
  },
  {
   "cell_type": "markdown",
   "metadata": {},
   "source": [
    "Para crear nuestra aplicación, queremos leer la distancia del sol para dos planetas, y luego mostrar la distancia entre los planetas. Haremos esto usando input para leer los valores, int para convertir a entero y luego abs para convertir el resultado en su valor absoluto."
   ]
  },
  {
   "cell_type": "code",
   "execution_count": null,
   "metadata": {},
   "outputs": [],
   "source": [
    "# Se leen los valores que hayamos ingresado.\n",
    "first_planet = input('Introduzca la distancia del sol para el primer planeta en kilómetro.')\n",
    "second_planet = input('Introduzca la distancia del sol para el segundo planeta en kilómetros.')\n",
    "\n",
    "# Convertimos las cadenas a números.\n",
    "first_planet = int(first_planet)\n",
    "second_planet = int(second_planet)\n",
    "\n",
    "# Se realiza el calculo y se desarrolla el valor absoluto.\n",
    "distancia_km = second_planet - first_planet\n",
    "print(\"La distancia en kilómetros entre los dos planeas es de: \" + str(int(distancia_km)) + \" km\")\n",
    "\n",
    "distancia_mi = distancia_km * 0.621\n",
    "print(\"La distancia en millas entre los dos planetas es de: \" + str(int(distancia_mi)) + \" mi\")"
   ]
  }
 ],
 "metadata": {
  "interpreter": {
   "hash": "669f5abd92f1a410df15b0643b9f42360e277a412fc08ae8bc7d7911cf7e8f3d"
  },
  "kernelspec": {
   "display_name": "Python 3.10.2 64-bit",
   "language": "python",
   "name": "python3"
  },
  "language_info": {
   "codemirror_mode": {
    "name": "ipython",
    "version": 3
   },
   "file_extension": ".py",
   "mimetype": "text/x-python",
   "name": "python",
   "nbconvert_exporter": "python",
   "pygments_lexer": "ipython3",
   "version": "3.10.2"
  },
  "orig_nbformat": 4
 },
 "nbformat": 4,
 "nbformat_minor": 2
}
